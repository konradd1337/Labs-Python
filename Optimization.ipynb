{
 "cells": [
  {
   "cell_type": "code",
   "execution_count": 1,
   "metadata": {
    "colab": {},
    "colab_type": "code",
    "id": "ZQpW5ULxmNAN"
   },
   "outputs": [],
   "source": [
    "import numpy as np\n",
    "import pandas as pd\n",
    "import matplotlib.pyplot as plt\n",
    "from scipy import optimize"
   ]
  },
  {
   "cell_type": "markdown",
   "metadata": {},
   "source": [
    "### Задача минимизировать целевую функцию\n",
    "$ min (\\sum_{j=1}^{3} q_j (\\sum_{i=1}^{3} t_{ij} x_{ij}) ) $\n",
    "### При ограничениях:\n",
    "$\\sum_{i=1}^{3} t_{ij} x_{ij} \\leq \\Phi_j , j = \\vec {1,3}\\\\\n",
    "\\sum_{j=1}^{3} x_{ij} = A_i , i = \\vec {1,3}\\\\\n",
    "x_{ij} \\geq 0 , i,j = \\vec {1,3}$"
   ]
  },
  {
   "cell_type": "markdown",
   "metadata": {},
   "source": [
    "$\\Phi_j \\text{ - равномерно распределенная случайная величина в интервале} [f_{j_{min}}, f_{j_{max}}] \\\\\n",
    "t_{ij} \\text{ - равномерно распределенная случайная величина в интервале} [t_{ij_{min}}, t_{ij_{max}}]$"
   ]
  },
  {
   "cell_type": "code",
   "execution_count": 2,
   "metadata": {
    "colab": {},
    "colab_type": "code",
    "id": "25nNS9W35qZD"
   },
   "outputs": [],
   "source": [
    "f_min = np.array([20, 60, 20])\n",
    "f_max = np.array([60, 90, 40])\n",
    "t_min = np.array([0.2, 0.5, 0.1, 0.1, 0.2, 0.15, 0.05, 0.2, 0.3])\n",
    "t_max = np.array([0.3, 1, 0.2, 0.2, 0.4, 0.3, 0.1, 0.4, 0.5])\n",
    "A = np.array([100, 200, 100])\n",
    "q = [30, 10, 20]"
   ]
  },
  {
   "cell_type": "markdown",
   "metadata": {},
   "source": [
    "$F \\text{ - Обратная функция лапласа} $"
   ]
  },
  {
   "cell_type": "code",
   "execution_count": 3,
   "metadata": {},
   "outputs": [],
   "source": [
    "F_lap = 1.64\n",
    "#Вероятность #Значение\n",
    "# 0.9         1.64\n",
    "# 0.8         1.28\n",
    "# 0.7         1.04\n",
    "# 0.6         0.84\n",
    "# 0.5         0.68"
   ]
  },
  {
   "cell_type": "markdown",
   "metadata": {},
   "source": [
    "$M_{\\xi}, D_{\\xi} \\text{ для } \\Phi_j, t_{ij}$"
   ]
  },
  {
   "cell_type": "code",
   "execution_count": 4,
   "metadata": {},
   "outputs": [],
   "source": [
    "M_f = (f_max + f_min) / 2\n",
    "D_f = ((f_max - f_min) ** 2) /12\n",
    "M_t = (t_max + t_min) / 2\n",
    "D_t = ((t_max - t_min) ** 2) /12"
   ]
  },
  {
   "cell_type": "code",
   "execution_count": 5,
   "metadata": {},
   "outputs": [],
   "source": [
    "def f(x):\n",
    "    return q[0] * (M_t[0:3] @ x[0:3]) + q[1] * (M_t[3:6] @ x[3:6]) + q[2] * (M_t[6:9] @ x[6:9])"
   ]
  },
  {
   "cell_type": "markdown",
   "metadata": {},
   "source": [
    "#### Детерминированный эквивалент"
   ]
  },
  {
   "cell_type": "code",
   "execution_count": 6,
   "metadata": {},
   "outputs": [],
   "source": [
    "def g1(x):\n",
    "    return M_t[0:3] @ x[0:3] + F_lap * (D_t[0]*(x[0] ** 2) + D_t[1]*(x[1] ** 2) + D_t[2]*(x[2] ** 2) + D_f[0]) ** (0.5) - M_f[0]\n",
    "def g2(x):\n",
    "    return M_t[3:6] @ x[3:6] + F_lap * (D_t[3]*(x[3] ** 2) + D_t[4]*(x[4] ** 2) + D_t[5]*(x[5] ** 2) + D_f[1]) ** (0.5) - M_f[1]\n",
    "def g3(x):\n",
    "    return M_t[6:9] @ x[6:9] + F_lap * (D_t[6]*(x[6] ** 2) + D_t[7]*(x[7] ** 2) + D_t[8]*(x[8] ** 2) + D_f[2]) ** (0.5) - M_f[2]"
   ]
  },
  {
   "cell_type": "markdown",
   "metadata": {},
   "source": [
    "#### Ограничения равенства"
   ]
  },
  {
   "cell_type": "code",
   "execution_count": 7,
   "metadata": {
    "colab": {},
    "colab_type": "code",
    "id": "PpBCcmlHCNZH"
   },
   "outputs": [],
   "source": [
    "def h1(x):\n",
    "    return x[0] + x[3] + x[6] - A[0]\n",
    "def h2(x):\n",
    "    return x[1] + x[4] + x[7] - A[1]\n",
    "def h3(x):\n",
    "    return x[2] + x[5] + x[8] - A[2]"
   ]
  },
  {
   "cell_type": "markdown",
   "metadata": {},
   "source": [
    "### Метод Штрафных функций"
   ]
  },
  {
   "cell_type": "code",
   "execution_count": 8,
   "metadata": {
    "colab": {},
    "colab_type": "code",
    "id": "iOCl6cOt9vw5"
   },
   "outputs": [
    {
     "name": "stdout",
     "output_type": "stream",
     "text": [
      "Warning: Maximum number of function evaluations has been exceeded.\n",
      "Warning: Maximum number of function evaluations has been exceeded.\n",
      "Warning: Maximum number of function evaluations has been exceeded.\n",
      "Optimization terminated successfully.\n",
      "         Current function value: 1243.809306\n",
      "         Iterations: 1024\n",
      "         Function evaluations: 1573\n",
      "Warning: Maximum number of function evaluations has been exceeded.\n",
      "Optimization terminated successfully.\n",
      "         Current function value: 1254.833893\n",
      "         Iterations: 1026\n",
      "         Function evaluations: 1564\n",
      "Optimization terminated successfully.\n",
      "         Current function value: 1256.672216\n",
      "         Iterations: 1160\n",
      "         Function evaluations: 1723\n",
      "Warning: Maximum number of function evaluations has been exceeded.\n",
      "Optimization terminated successfully.\n",
      "         Current function value: 1258.051127\n",
      "         Iterations: 1097\n",
      "         Function evaluations: 1676\n",
      "Warning: Maximum number of function evaluations has been exceeded.\n",
      "Optimization terminated successfully.\n",
      "         Current function value: 1258.395878\n",
      "         Iterations: 1056\n",
      "         Function evaluations: 1624\n",
      "Optimization terminated successfully.\n",
      "         Current function value: 1258.453337\n",
      "         Iterations: 1132\n",
      "         Function evaluations: 1677\n",
      "Optimization terminated successfully.\n",
      "         Current function value: 1258.482067\n",
      "         Iterations: 1064\n",
      "         Function evaluations: 1585\n",
      "Warning: Maximum number of function evaluations has been exceeded.\n",
      "Optimization terminated successfully.\n",
      "         Current function value: 1258.503614\n",
      "         Iterations: 1108\n",
      "         Function evaluations: 1639\n",
      "Optimization terminated successfully.\n",
      "         Current function value: 1258.507206\n",
      "         Iterations: 1059\n",
      "         Function evaluations: 1586\n",
      "Optimization terminated successfully.\n",
      "         Current function value: 1258.509001\n",
      "         Iterations: 925\n",
      "         Function evaluations: 1386\n",
      "Optimization terminated successfully.\n",
      "         Current function value: 1258.509899\n",
      "         Iterations: 1147\n",
      "         Function evaluations: 1709\n",
      "Optimization terminated successfully.\n",
      "         Current function value: 1258.510348\n",
      "         Iterations: 927\n",
      "         Function evaluations: 1393\n",
      "Optimization terminated successfully.\n",
      "         Current function value: 1258.510572\n",
      "         Iterations: 993\n",
      "         Function evaluations: 1478\n",
      "Optimization terminated successfully.\n",
      "         Current function value: 1258.510685\n",
      "         Iterations: 1052\n",
      "         Function evaluations: 1533\n",
      "Warning: Maximum number of function evaluations has been exceeded.\n",
      "Optimization terminated successfully.\n",
      "         Current function value: 1258.510771\n",
      "         Iterations: 958\n",
      "         Function evaluations: 1443\n",
      "Warning: Maximum number of function evaluations has been exceeded.\n",
      "Optimization terminated successfully.\n",
      "         Current function value: 1258.510790\n",
      "         Iterations: 725\n",
      "         Function evaluations: 1109\n"
     ]
    }
   ],
   "source": [
    "eps = 0.00001\n",
    "b = 2\n",
    "p = 2\n",
    "r = 1\n",
    "\n",
    "def alfa(x):\n",
    "    return  max(g1(x),0) ** p + max(g2(x),0) ** p + max(g3(x),0) ** p + (abs(h1(x)) ** p + abs(h2(x)) ** p + abs(h3(x)) ** p) + (((-x) * (-x > 0)) ** p).sum()\n",
    "\n",
    "def Fx(x):\n",
    "    return f(x) + r * alfa(x)\n",
    "\n",
    "x0 = np.array([4, 0, 10, 0, 49, 0, 26, 1, 0])\n",
    "\n",
    "rez = optimize.minimize(Fx, x0, method='nelder-mead', options = {'xtol': 1e-8, 'disp': True})\n",
    "x = rez.x\n",
    "\n",
    "while not (r * alfa(x) < eps):\n",
    "    r = r * b\n",
    "    rez = optimize.minimize(Fx, x, method='nelder-mead', options = {'xtol': 1e-8, 'disp': True})\n",
    "    x = rez.x"
   ]
  },
  {
   "cell_type": "markdown",
   "metadata": {},
   "source": [
    "#### Выполнение ограничений"
   ]
  },
  {
   "cell_type": "code",
   "execution_count": 9,
   "metadata": {},
   "outputs": [
    {
     "name": "stdout",
     "output_type": "stream",
     "text": [
      "g1(x)   -9.871755e+00\n",
      "g2(x)    2.758985e-07\n",
      "g3(x)    4.862220e-08\n",
      "h1(x)   -4.230932e-08\n",
      "h2(x)   -1.716161e-07\n",
      "h3(x)   -1.154402e-07\n",
      "dtype: float64\n"
     ]
    }
   ],
   "source": [
    "s = pd.Series([g1(x), g2(x), g3(x), h1(x), h2(x), h3(x)], ['g1(x)', 'g2(x)', 'g3(x)', 'h1(x)', 'h2(x)', 'h3(x)'])\n",
    "print(s)"
   ]
  },
  {
   "cell_type": "markdown",
   "metadata": {},
   "source": [
    "### Результат"
   ]
  },
  {
   "cell_type": "code",
   "execution_count": 10,
   "metadata": {},
   "outputs": [
    {
     "data": {
      "text/html": [
       "<div>\n",
       "<style scoped>\n",
       "    .dataframe tbody tr th:only-of-type {\n",
       "        vertical-align: middle;\n",
       "    }\n",
       "\n",
       "    .dataframe tbody tr th {\n",
       "        vertical-align: top;\n",
       "    }\n",
       "\n",
       "    .dataframe thead th {\n",
       "        text-align: right;\n",
       "    }\n",
       "</style>\n",
       "<table border=\"1\" class=\"dataframe\">\n",
       "  <thead>\n",
       "    <tr style=\"text-align: right;\">\n",
       "      <th></th>\n",
       "      <th>X_ij</th>\n",
       "      <th>j=1</th>\n",
       "      <th>j=2</th>\n",
       "      <th>j=3</th>\n",
       "    </tr>\n",
       "  </thead>\n",
       "  <tbody>\n",
       "    <tr>\n",
       "      <th>i=1</th>\n",
       "      <td></td>\n",
       "      <td>-1.794737e-07</td>\n",
       "      <td>-3.127449e-08</td>\n",
       "      <td>1.000000e+02</td>\n",
       "    </tr>\n",
       "    <tr>\n",
       "      <th>i=2</th>\n",
       "      <td></td>\n",
       "      <td>-4.969948e-07</td>\n",
       "      <td>1.599074e+02</td>\n",
       "      <td>4.009256e+01</td>\n",
       "    </tr>\n",
       "    <tr>\n",
       "      <th>i=3</th>\n",
       "      <td></td>\n",
       "      <td>7.254805e+01</td>\n",
       "      <td>2.745195e+01</td>\n",
       "      <td>-1.386120e-07</td>\n",
       "    </tr>\n",
       "  </tbody>\n",
       "</table>\n",
       "</div>"
      ],
      "text/plain": [
       "    X_ij           j=1           j=2           j=3\n",
       "i=1      -1.794737e-07 -3.127449e-08  1.000000e+02\n",
       "i=2      -4.969948e-07  1.599074e+02  4.009256e+01\n",
       "i=3       7.254805e+01  2.745195e+01 -1.386120e-07"
      ]
     },
     "execution_count": 10,
     "metadata": {},
     "output_type": "execute_result"
    }
   ],
   "source": [
    "d = {\"X_ij\":'',\"j=1\":x[0:3],\"j=2\":x[3:6],\"j=3\":x[6:9]}\n",
    "df = pd.DataFrame(d, index=['i=1','i=2','i=3'])\n",
    "df"
   ]
  },
  {
   "cell_type": "code",
   "execution_count": 11,
   "metadata": {},
   "outputs": [
    {
     "name": "stdout",
     "output_type": "stream",
     "text": [
      "f(x) =  1258.51078274\n"
     ]
    }
   ],
   "source": [
    "print('f(x) = ',f(x))"
   ]
  },
  {
   "cell_type": "code",
   "execution_count": 12,
   "metadata": {},
   "outputs": [],
   "source": [
    "F_prob = np.empty([5])\n",
    "F_prob[0] = 1137.27211688 #0.5\n",
    "F_prob[1] = 1156.47630442 #0.6\n",
    "F_prob[2] = 1181.29429404 # 0.7\n",
    "F_prob[3] = 1211.49315635 # 0.8\n",
    "F_prob[4] = 1258.51078274 # 0.9"
   ]
  },
  {
   "cell_type": "markdown",
   "metadata": {},
   "source": [
    "### График зависимости целевой функции от вероятности выполнения плана"
   ]
  },
  {
   "cell_type": "code",
   "execution_count": 13,
   "metadata": {},
   "outputs": [
    {
     "data": {
      "image/png": "[encoded data removed]",
      "text/plain": [
       "<Figure size 432x288 with 1 Axes>"
      ]
     },
     "metadata": {
      "needs_background": "light"
     },
     "output_type": "display_data"
    }
   ],
   "source": [
    "ox = [0.5, 0.6, 0.7, 0.8, 0.9]\n",
    "plt.plot(ox, F_prob)\n",
    "plt.xlabel('Probability')\n",
    "plt.ylabel('f(x)')\n",
    "plt.show()"
   ]
  },
  {
   "cell_type": "code",
   "execution_count": null,
   "metadata": {},
   "outputs": [],
   "source": []
  }
 ],
 "metadata": {
  "colab": {
   "name": "tprKURS.ipynb",
   "provenance": [],
   "version": "0.3.2"
  },
  "kernelspec": {
   "display_name": "Python 3",
   "language": "python",
   "name": "python3"
  },
  "language_info": {
   "codemirror_mode": {
    "name": "ipython",
    "version": 3
   },
   "file_extension": ".py",
   "mimetype": "text/x-python",
   "name": "python",
   "nbconvert_exporter": "python",
   "pygments_lexer": "ipython3",
   "version": "3.6.3"
  }
 },
 "nbformat": 4,
 "nbformat_minor": 1
}
